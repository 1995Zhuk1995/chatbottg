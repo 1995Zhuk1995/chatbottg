{
 "cells": [
  {
   "cell_type": "markdown",
   "metadata": {},
   "source": [
    "### Сравнение оптимизаторов FTML и nadam с помощью однофакторного дисперсионного анализа"
   ]
  },
  {
   "cell_type": "code",
   "execution_count": 1,
   "metadata": {
    "collapsed": true
   },
   "outputs": [],
   "source": [
    "from __future__ import print_function\n",
    "import scipy.stats as stats\n",
    "import numpy as np"
   ]
  },
  {
   "cell_type": "code",
   "execution_count": 6,
   "metadata": {
    "collapsed": true
   },
   "outputs": [],
   "source": [
    "# достигнутые точности валидации per instance ghb для модели посимвольной генерации\n",
    "# текста ответа в чатботе https://github.com/Koziev/chatbot/blob/master/PyModels/qa_chargenerator_model.py\n",
    "# соответственно для оптимизаторов FTML (https://github.com/keras-team/keras-contrib/blob/master/keras_contrib/optimizers/ftml.py)\n",
    "# и штатной реализации nadam в Keras.\n",
    "ftml = [0.8486, 0.8437, 0.8480, 0.8468, 0.8468, 0.8393, 0.8500]\n",
    "nadam = [0.8486, 0.8386, 0.8295, 0.8391, 0.8242, 0.8293, 0.8356]"
   ]
  },
  {
   "cell_type": "code",
   "execution_count": 7,
   "metadata": {},
   "outputs": [
    {
     "data": {
      "text/plain": [
       "F_onewayResult(statistic=11.122199444877845, pvalue=0.0059428842519668526)"
      ]
     },
     "execution_count": 7,
     "metadata": {},
     "output_type": "execute_result"
    }
   ],
   "source": [
    "stats.f_oneway(ftml, nadam)"
   ]
  },
  {
   "cell_type": "markdown",
   "metadata": {},
   "source": [
    "##### Таким образом, отвергая нулевую гипотезу (что выборочные средние точности per instance на самом деле совпадают, а отличия вызваны случайными причинами), мы ошибемся с вероятностью pvalue. Исходя из полученного значения можно считать, что действительно FTML действительно влияет на достигаемую точность."
   ]
  },
  {
   "cell_type": "code",
   "execution_count": null,
   "metadata": {
    "collapsed": true
   },
   "outputs": [],
   "source": []
  }
 ],
 "metadata": {
  "kernelspec": {
   "display_name": "Python [default]",
   "language": "python",
   "name": "python2"
  },
  "language_info": {
   "codemirror_mode": {
    "name": "ipython",
    "version": 2
   },
   "file_extension": ".py",
   "mimetype": "text/x-python",
   "name": "python",
   "nbconvert_exporter": "python",
   "pygments_lexer": "ipython2",
   "version": "2.7.13"
  }
 },
 "nbformat": 4,
 "nbformat_minor": 2
}
