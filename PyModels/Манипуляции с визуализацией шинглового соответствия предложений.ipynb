{
 "cells": [
  {
   "cell_type": "code",
   "execution_count": 11,
   "metadata": {
    "collapsed": true
   },
   "outputs": [],
   "source": [
    "from __future__ import print_function\n",
    "\n",
    "import matplotlib.pyplot as plt\n",
    "\n",
    "import numpy as np\n",
    "import itertools\n",
    "\n",
    "import skimage.transform\n",
    "\n",
    "%matplotlib inline"
   ]
  },
  {
   "cell_type": "code",
   "execution_count": 14,
   "metadata": {
    "collapsed": true
   },
   "outputs": [],
   "source": [
    "# Размер изображения, к которому приводятся матрицы соответствия\n",
    "shingle_image_size = 16\n",
    "\n",
    "def shingles_list(s, n):\n",
    "    '''\n",
    "    Из строки s получаем список шинглов длиной по n символов. Сохраняем\n",
    "    порядок следования шинглов.\n",
    "    '''\n",
    "    return [u''.join(z) for z in itertools.izip(*[s[i:] for i in range(n)])]\n",
    "\n",
    "\n",
    "def get_shingle_image(str1, str2):\n",
    "    '''\n",
    "    Для двух заданных строк str1 и str2 строится матрица соответствия шинглов,\n",
    "    затем она как прямоугольное изображение сжимается к фиксированному размеру.\n",
    "    '''\n",
    "    shingles1 = shingles_list(str1, 3)\n",
    "    shingles2 = shingles_list(str2, 3)\n",
    "    image = np.zeros((len(shingles1), len(shingles2)), dtype='float32')\n",
    "    for i1, shingle1 in enumerate(shingles1):\n",
    "        for i2, shingle2 in enumerate(shingles2):\n",
    "            if shingle1 == shingle2:\n",
    "                image[i1, i2] = 1.0\n",
    "\n",
    "    image_resized = skimage.transform.resize(image,\n",
    "                                             (shingle_image_size, shingle_image_size))\n",
    "    return (image, image_resized)\n"
   ]
  },
  {
   "cell_type": "code",
   "execution_count": 15,
   "metadata": {},
   "outputs": [],
   "source": [
    "image0, image1 = get_shingle_image(u'кошка отчаянно ловит серую мышку',\n",
    "                                   u'серую мышку хочет поймать кошка')"
   ]
  },
  {
   "cell_type": "code",
   "execution_count": 16,
   "metadata": {},
   "outputs": [
    {
     "data": {
      "text/plain": [
       "<matplotlib.image.AxesImage at 0xb5ab828>"
      ]
     },
     "execution_count": 16,
     "metadata": {},
     "output_type": "execute_result"
    },
    {
     "data": {
      "image/png": "[encoded data removed]",
      "text/plain": [
       "<matplotlib.figure.Figure at 0x9de65c0>"
      ]
     },
     "metadata": {},
     "output_type": "display_data"
    }
   ],
   "source": [
    "plt.imshow(image0, cmap='gray')"
   ]
  },
  {
   "cell_type": "code",
   "execution_count": 17,
   "metadata": {},
   "outputs": [
    {
     "data": {
      "text/plain": [
       "<matplotlib.image.AxesImage at 0xba65ef0>"
      ]
     },
     "execution_count": 17,
     "metadata": {},
     "output_type": "execute_result"
    },
    {
     "data": {
      "image/png": "[encoded data removed]",
      "text/plain": [
       "<matplotlib.figure.Figure at 0xb95bb70>"
      ]
     },
     "metadata": {},
     "output_type": "display_data"
    }
   ],
   "source": [
    "plt.imshow(image1, cmap='gray')"
   ]
  },
  {
   "cell_type": "code",
   "execution_count": null,
   "metadata": {
    "collapsed": true
   },
   "outputs": [],
   "source": []
  }
 ],
 "metadata": {
  "kernelspec": {
   "display_name": "Python [default]",
   "language": "python",
   "name": "python2"
  },
  "language_info": {
   "codemirror_mode": {
    "name": "ipython",
    "version": 2
   },
   "file_extension": ".py",
   "mimetype": "text/x-python",
   "name": "python",
   "nbconvert_exporter": "python",
   "pygments_lexer": "ipython2",
   "version": "2.7.13"
  }
 },
 "nbformat": 4,
 "nbformat_minor": 2
}
